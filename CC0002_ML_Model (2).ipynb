{
 "cells": [
  {
   "cell_type": "markdown",
   "id": "0735d5a8",
   "metadata": {},
   "source": [
    "# CC0002 Fake News AI model"
   ]
  },
  {
   "cell_type": "markdown",
   "id": "0cb1b4dc",
   "metadata": {},
   "source": [
    "In this Notebook, we will be going through how we trained our AI model for **classifying fake news**, implementing knowledge we learnt in **Quantitative Analysis and Artificial Intelligence** to help users discern possible fake news."
   ]
  },
  {
   "cell_type": "code",
   "execution_count": 1,
   "id": "cb738152",
   "metadata": {},
   "outputs": [],
   "source": [
    "# Relevant libraries for quantitative analysis and data visualisation\n",
    "import numpy as np\n",
    "import pandas as pd\n",
    "import seaborn as sb\n",
    "import matplotlib.pyplot as plt\n",
    "sb.set() # set the default Seaborn style for graphics\n",
    "\n",
    "# Relevant libraries for preprocessing and test/train split\n",
    "import nltk\n",
    "from sklearn.feature_extraction.text import TfidfVectorizer\n",
    "from sklearn.model_selection import train_test_split\n",
    "from sklearn.pipeline import Pipeline\n",
    "from sklearn.preprocessing import FunctionTransformer\n",
    "from sklearn.compose import ColumnTransformer\n",
    "import re\n",
    "from nltk.corpus import stopwords\n",
    "from nltk.stem import PorterStemmer\n",
    "from nltk.tokenize import word_tokenize\n",
    "import nltk"
   ]
  },
  {
   "cell_type": "markdown",
   "id": "dd22a7e3",
   "metadata": {},
   "source": [
    "# Import the dataset\n",
    "We will be importing the (WELFake) dataset from https://www.kaggle.com/datasets/saurabhshahane/fake-news-classification for our model training. The dataset consists of 72,134 news articles with 35,028 real and 37,106 fake news and the real news are aggreagated from four popular news datasets (i.e. Kaggle, McIntire, Reuters, BuzzFeed Political). "
   ]
  },
  {
   "cell_type": "code",
   "execution_count": 2,
   "id": "f9b4fcea",
   "metadata": {},
   "outputs": [
    {
     "data": {
      "text/html": [
       "<div>\n",
       "<style scoped>\n",
       "    .dataframe tbody tr th:only-of-type {\n",
       "        vertical-align: middle;\n",
       "    }\n",
       "\n",
       "    .dataframe tbody tr th {\n",
       "        vertical-align: top;\n",
       "    }\n",
       "\n",
       "    .dataframe thead th {\n",
       "        text-align: right;\n",
       "    }\n",
       "</style>\n",
       "<table border=\"1\" class=\"dataframe\">\n",
       "  <thead>\n",
       "    <tr style=\"text-align: right;\">\n",
       "      <th></th>\n",
       "      <th>title</th>\n",
       "      <th>text</th>\n",
       "      <th>subject</th>\n",
       "      <th>date</th>\n",
       "    </tr>\n",
       "  </thead>\n",
       "  <tbody>\n",
       "    <tr>\n",
       "      <th>0</th>\n",
       "      <td>As U.S. budget fight looms, Republicans flip t...</td>\n",
       "      <td>WASHINGTON (Reuters) - The head of a conservat...</td>\n",
       "      <td>politicsNews</td>\n",
       "      <td>December 31, 2017</td>\n",
       "    </tr>\n",
       "    <tr>\n",
       "      <th>1</th>\n",
       "      <td>U.S. military to accept transgender recruits o...</td>\n",
       "      <td>WASHINGTON (Reuters) - Transgender people will...</td>\n",
       "      <td>politicsNews</td>\n",
       "      <td>December 29, 2017</td>\n",
       "    </tr>\n",
       "    <tr>\n",
       "      <th>2</th>\n",
       "      <td>Senior U.S. Republican senator: 'Let Mr. Muell...</td>\n",
       "      <td>WASHINGTON (Reuters) - The special counsel inv...</td>\n",
       "      <td>politicsNews</td>\n",
       "      <td>December 31, 2017</td>\n",
       "    </tr>\n",
       "    <tr>\n",
       "      <th>3</th>\n",
       "      <td>FBI Russia probe helped by Australian diplomat...</td>\n",
       "      <td>WASHINGTON (Reuters) - Trump campaign adviser ...</td>\n",
       "      <td>politicsNews</td>\n",
       "      <td>December 30, 2017</td>\n",
       "    </tr>\n",
       "    <tr>\n",
       "      <th>4</th>\n",
       "      <td>Trump wants Postal Service to charge 'much mor...</td>\n",
       "      <td>SEATTLE/WASHINGTON (Reuters) - President Donal...</td>\n",
       "      <td>politicsNews</td>\n",
       "      <td>December 29, 2017</td>\n",
       "    </tr>\n",
       "  </tbody>\n",
       "</table>\n",
       "</div>"
      ],
      "text/plain": [
       "                                               title  \\\n",
       "0  As U.S. budget fight looms, Republicans flip t...   \n",
       "1  U.S. military to accept transgender recruits o...   \n",
       "2  Senior U.S. Republican senator: 'Let Mr. Muell...   \n",
       "3  FBI Russia probe helped by Australian diplomat...   \n",
       "4  Trump wants Postal Service to charge 'much mor...   \n",
       "\n",
       "                                                text       subject  \\\n",
       "0  WASHINGTON (Reuters) - The head of a conservat...  politicsNews   \n",
       "1  WASHINGTON (Reuters) - Transgender people will...  politicsNews   \n",
       "2  WASHINGTON (Reuters) - The special counsel inv...  politicsNews   \n",
       "3  WASHINGTON (Reuters) - Trump campaign adviser ...  politicsNews   \n",
       "4  SEATTLE/WASHINGTON (Reuters) - President Donal...  politicsNews   \n",
       "\n",
       "                 date  \n",
       "0  December 31, 2017   \n",
       "1  December 29, 2017   \n",
       "2  December 31, 2017   \n",
       "3  December 30, 2017   \n",
       "4  December 29, 2017   "
      ]
     },
     "execution_count": 2,
     "metadata": {},
     "output_type": "execute_result"
    }
   ],
   "source": [
    "# Load the CSV file\n",
    "true_df = pd.read_csv('True.csv')\n",
    "true_df.head()"
   ]
  },
  {
   "cell_type": "code",
   "execution_count": 3,
   "id": "dd08f690",
   "metadata": {},
   "outputs": [
    {
     "data": {
      "text/html": [
       "<div>\n",
       "<style scoped>\n",
       "    .dataframe tbody tr th:only-of-type {\n",
       "        vertical-align: middle;\n",
       "    }\n",
       "\n",
       "    .dataframe tbody tr th {\n",
       "        vertical-align: top;\n",
       "    }\n",
       "\n",
       "    .dataframe thead th {\n",
       "        text-align: right;\n",
       "    }\n",
       "</style>\n",
       "<table border=\"1\" class=\"dataframe\">\n",
       "  <thead>\n",
       "    <tr style=\"text-align: right;\">\n",
       "      <th></th>\n",
       "      <th>title</th>\n",
       "      <th>text</th>\n",
       "      <th>subject</th>\n",
       "      <th>date</th>\n",
       "    </tr>\n",
       "  </thead>\n",
       "  <tbody>\n",
       "    <tr>\n",
       "      <th>0</th>\n",
       "      <td>Donald Trump Sends Out Embarrassing New Year’...</td>\n",
       "      <td>Donald Trump just couldn t wish all Americans ...</td>\n",
       "      <td>News</td>\n",
       "      <td>December 31, 2017</td>\n",
       "    </tr>\n",
       "    <tr>\n",
       "      <th>1</th>\n",
       "      <td>Drunk Bragging Trump Staffer Started Russian ...</td>\n",
       "      <td>House Intelligence Committee Chairman Devin Nu...</td>\n",
       "      <td>News</td>\n",
       "      <td>December 31, 2017</td>\n",
       "    </tr>\n",
       "    <tr>\n",
       "      <th>2</th>\n",
       "      <td>Sheriff David Clarke Becomes An Internet Joke...</td>\n",
       "      <td>On Friday, it was revealed that former Milwauk...</td>\n",
       "      <td>News</td>\n",
       "      <td>December 30, 2017</td>\n",
       "    </tr>\n",
       "    <tr>\n",
       "      <th>3</th>\n",
       "      <td>Trump Is So Obsessed He Even Has Obama’s Name...</td>\n",
       "      <td>On Christmas day, Donald Trump announced that ...</td>\n",
       "      <td>News</td>\n",
       "      <td>December 29, 2017</td>\n",
       "    </tr>\n",
       "    <tr>\n",
       "      <th>4</th>\n",
       "      <td>Pope Francis Just Called Out Donald Trump Dur...</td>\n",
       "      <td>Pope Francis used his annual Christmas Day mes...</td>\n",
       "      <td>News</td>\n",
       "      <td>December 25, 2017</td>\n",
       "    </tr>\n",
       "  </tbody>\n",
       "</table>\n",
       "</div>"
      ],
      "text/plain": [
       "                                               title  \\\n",
       "0   Donald Trump Sends Out Embarrassing New Year’...   \n",
       "1   Drunk Bragging Trump Staffer Started Russian ...   \n",
       "2   Sheriff David Clarke Becomes An Internet Joke...   \n",
       "3   Trump Is So Obsessed He Even Has Obama’s Name...   \n",
       "4   Pope Francis Just Called Out Donald Trump Dur...   \n",
       "\n",
       "                                                text subject  \\\n",
       "0  Donald Trump just couldn t wish all Americans ...    News   \n",
       "1  House Intelligence Committee Chairman Devin Nu...    News   \n",
       "2  On Friday, it was revealed that former Milwauk...    News   \n",
       "3  On Christmas day, Donald Trump announced that ...    News   \n",
       "4  Pope Francis used his annual Christmas Day mes...    News   \n",
       "\n",
       "                date  \n",
       "0  December 31, 2017  \n",
       "1  December 31, 2017  \n",
       "2  December 30, 2017  \n",
       "3  December 29, 2017  \n",
       "4  December 25, 2017  "
      ]
     },
     "execution_count": 3,
     "metadata": {},
     "output_type": "execute_result"
    }
   ],
   "source": [
    "# Load the CSV file\n",
    "fake_df = pd.read_csv('Fake.csv')\n",
    "fake_df.head()"
   ]
  },
  {
   "cell_type": "markdown",
   "id": "fd036baa",
   "metadata": {},
   "source": [
    "## Data Preparation and Cleaning"
   ]
  },
  {
   "cell_type": "markdown",
   "id": "7a1da2ed",
   "metadata": {},
   "source": [
    "We will now be preparing for our model. We will first combine both the real and fake news datasets provided by the link, and provide labels for them for future supervised learning **(0 - Not Fake, 1 - Fake)**.\n",
    "\n",
    "Dataset used from: https://www.kaggle.com/datasets/jainpooja/fake-news-detection"
   ]
  },
  {
   "cell_type": "code",
   "execution_count": 4,
   "id": "dd3fa9f1",
   "metadata": {},
   "outputs": [],
   "source": [
    "# Add a column for data labels for later training\n",
    "true_df['Fake/Not Fake'] = 0\n",
    "fake_df['Fake/Not Fake'] = 1\n",
    "\n",
    "# Concatenate both datasets together \n",
    "full_dataset_df = pd.concat([fake_df, true_df], ignore_index=True)"
   ]
  },
  {
   "cell_type": "code",
   "execution_count": 5,
   "id": "f7282a4d",
   "metadata": {},
   "outputs": [
    {
     "data": {
      "text/plain": [
       "title            0\n",
       "text             0\n",
       "subject          0\n",
       "date             0\n",
       "Fake/Not Fake    0\n",
       "dtype: int64"
      ]
     },
     "execution_count": 5,
     "metadata": {},
     "output_type": "execute_result"
    }
   ],
   "source": [
    "# Check to see if cleaning is required\n",
    "full_dataset_df.isnull().sum()"
   ]
  },
  {
   "cell_type": "markdown",
   "id": "4e98887c",
   "metadata": {},
   "source": [
    "As seen above, no Null values are present and all the data within the csv is complete, so no more cleaning is required."
   ]
  },
  {
   "cell_type": "markdown",
   "id": "a311e7bc",
   "metadata": {},
   "source": [
    "## Quantitative Analysis"
   ]
  },
  {
   "cell_type": "code",
   "execution_count": 20,
   "id": "4570ab52",
   "metadata": {},
   "outputs": [
    {
     "name": "stdout",
     "output_type": "stream",
     "text": [
      "1    23481\n",
      "0    21417\n",
      "Name: Fake/Not Fake, dtype: int64\n"
     ]
    },
    {
     "data": {
      "image/png": "[encoded data removed]",
      "text/plain": [
       "<Figure size 500x500 with 1 Axes>"
      ]
     },
     "metadata": {},
     "output_type": "display_data"
    }
   ],
   "source": [
    "# Data Visualisation\n",
    "print(full_dataset_df['Fake/Not Fake'].value_counts())\n",
    "sb.catplot(x = \"Fake/Not Fake\", data = full_dataset_df, kind = \"count\")\n",
    "plt.show()"
   ]
  },
  {
   "cell_type": "markdown",
   "id": "bb1cb131",
   "metadata": {},
   "source": [
    "## Data Preprocessing and Feature Selection"
   ]
  },
  {
   "cell_type": "markdown",
   "id": "d7afd558",
   "metadata": {},
   "source": [
    "For our model, we will be selecting the following features: title and text to help determine whether the news article/piece of information is likely fake. We believe they are the most valuable features to determine if the news is fake or not as the date of publication and news subject do not convey as much meaningful information to determine the news' legitimacy."
   ]
  },
  {
   "cell_type": "markdown",
   "id": "7ba41254",
   "metadata": {},
   "source": [
    "We will now be moving onto preprocessing our data, before it will be ready and suitable for training our model. We will first be tokenising our data.\n",
    "\n",
    "**Tokenising** <br>\n",
    "Tokenising is the process of breaking down text into smaller units called tokens. These tokens can be words or numbers. Tokenising is a fundamental step in text processing  and NLP because it helps in understanding the context and developing the structure of the text data. In this project, we will be focusing on word tokenising.\n",
    "\n",
    "Word Tokenising: This involves splitting a piece of text into individual words. It's useful for tasks that require analysis at the word level, such as frequency distribution analysis, stopwords removal, and word-based filtering, which will be used in our model.\n",
    "\n",
    "For this project, we will be using the punkt tokeniser.\n",
    "\n",
    "**Stop word Removal** <br>\n",
    "Stop word removal is a widely-used preprocessing technique that filters out words that does not convey too much information/meaning such as \"the\", \"a\", \"is\". This helps to improve efficiency as well as improve the overall quality of our training set.\n",
    "\n",
    "For this project, we will use the library of stop words as prescribed by the NLTK library.\n",
    "\n",
    "**Stemming**<br>\n",
    "Stemming in the context of NLP refers to the process of reducing a word to its root meaning(Eg. swimming/swims -> swim). It helps to simplify and standardise words in the processed data to help improve the efficiency of the model as well as its training.\n",
    "\n",
    "For this project, we will be using the Porter Stemming. "
   ]
  },
  {
   "cell_type": "code",
   "execution_count": 7,
   "id": "bffb5201",
   "metadata": {},
   "outputs": [
    {
     "name": "stdout",
     "output_type": "stream",
     "text": [
      "<class 'pandas.core.frame.DataFrame'>\n",
      "RangeIndex: 44898 entries, 0 to 44897\n",
      "Data columns (total 5 columns):\n",
      " #   Column         Non-Null Count  Dtype \n",
      "---  ------         --------------  ----- \n",
      " 0   title          44898 non-null  object\n",
      " 1   text           44898 non-null  object\n",
      " 2   subject        44898 non-null  object\n",
      " 3   date           44898 non-null  object\n",
      " 4   Fake/Not Fake  44898 non-null  int64 \n",
      "dtypes: int64(1), object(4)\n",
      "memory usage: 1.7+ MB\n"
     ]
    },
    {
     "name": "stderr",
     "output_type": "stream",
     "text": [
      "[nltk_data] Downloading package punkt to\n",
      "[nltk_data]     C:\\Users\\huang\\AppData\\Roaming\\nltk_data...\n",
      "[nltk_data]   Package punkt is already up-to-date!\n",
      "[nltk_data] Downloading package stopwords to\n",
      "[nltk_data]     C:\\Users\\huang\\AppData\\Roaming\\nltk_data...\n",
      "[nltk_data]   Package stopwords is already up-to-date!\n"
     ]
    },
    {
     "data": {
      "text/plain": [
       "(None,\n",
       "                                                title  \\\n",
       " 0  Ben Stein Calls Out 9th Circuit Court: Committ...   \n",
       " 1  Trump drops Steve Bannon from National Securit...   \n",
       " 2  Puerto Rico expects U.S. to lift Jones Act shi...   \n",
       " 3   OOPS: Trump Just Accidentally Confirmed He Le...   \n",
       " 4  Donald Trump heads for Scotland to reopen a go...   \n",
       " \n",
       "                                                 text       subject  \\\n",
       " 0  21st Century Wire says Ben Stein, reputable pr...       US_News   \n",
       " 1  WASHINGTON (Reuters) - U.S. President Donald T...  politicsNews   \n",
       " 2  (Reuters) - Puerto Rico Governor Ricardo Rosse...  politicsNews   \n",
       " 3  On Monday, Donald Trump once again embarrassed...          News   \n",
       " 4  GLASGOW, Scotland (Reuters) - Most U.S. presid...  politicsNews   \n",
       " \n",
       "                   date  Fake/Not Fake  \n",
       " 0    February 13, 2017              1  \n",
       " 1       April 5, 2017               0  \n",
       " 2  September 27, 2017               0  \n",
       " 3         May 22, 2017              1  \n",
       " 4       June 24, 2016               0  )"
      ]
     },
     "execution_count": 7,
     "metadata": {},
     "output_type": "execute_result"
    }
   ],
   "source": [
    "# Download necessary NLTK data\n",
    "nltk.download('punkt')\n",
    "nltk.download('stopwords')\n",
    "\n",
    "# Set of English stop words\n",
    "stop_words = set(stopwords.words('english'))\n",
    "\n",
    "# Initialize Porter Stemmer\n",
    "porter = PorterStemmer()\n",
    "\n",
    "# Shuffle the combined dataset to ensure a random distribution of fake and true news\n",
    "full_dataset_df = full_dataset_df.sample(frac=1, random_state=42).reset_index(drop=True)\n",
    "\n",
    "# Display the structure of the combined dataset and a few random rows to ensure proper combination and shuffling\n",
    "full_dataset_df.info(), full_dataset_df.head()"
   ]
  },
  {
   "cell_type": "code",
   "execution_count": 8,
   "id": "81655ff7",
   "metadata": {},
   "outputs": [],
   "source": [
    "def preprocess_data(text):\n",
    "    text = text.lower()\n",
    "    # Remove non-alphanumeric characters\n",
    "    text = re.sub(r'\\W+', ' ', text)\n",
    "    \n",
    "    # Tokenization\n",
    "    words = word_tokenize(text)\n",
    "    \n",
    "    # Remove stop words and stemming\n",
    "    filtered_words = [porter.stem(word) for word in words if word not in stop_words]\n",
    "    \n",
    "    # Join words back to text\n",
    "    text = ' '.join(filtered_words)\n",
    "    \n",
    "    return text"
   ]
  },
  {
   "cell_type": "markdown",
   "id": "5521b5cf",
   "metadata": {},
   "source": [
    "Note that the cell below may take a while to run"
   ]
  },
  {
   "cell_type": "code",
   "execution_count": 9,
   "id": "ee38318e",
   "metadata": {},
   "outputs": [
    {
     "data": {
      "text/html": [
       "<div>\n",
       "<style scoped>\n",
       "    .dataframe tbody tr th:only-of-type {\n",
       "        vertical-align: middle;\n",
       "    }\n",
       "\n",
       "    .dataframe tbody tr th {\n",
       "        vertical-align: top;\n",
       "    }\n",
       "\n",
       "    .dataframe thead th {\n",
       "        text-align: right;\n",
       "    }\n",
       "</style>\n",
       "<table border=\"1\" class=\"dataframe\">\n",
       "  <thead>\n",
       "    <tr style=\"text-align: right;\">\n",
       "      <th></th>\n",
       "      <th>combined_text</th>\n",
       "      <th>Fake/Not Fake</th>\n",
       "    </tr>\n",
       "  </thead>\n",
       "  <tbody>\n",
       "    <tr>\n",
       "      <th>0</th>\n",
       "      <td>ben stein call 9th circuit court commit coup é...</td>\n",
       "      <td>1</td>\n",
       "    </tr>\n",
       "    <tr>\n",
       "      <th>1</th>\n",
       "      <td>trump drop steve bannon nation secur council w...</td>\n",
       "      <td>0</td>\n",
       "    </tr>\n",
       "    <tr>\n",
       "      <th>2</th>\n",
       "      <td>puerto rico expect u lift jone act ship restri...</td>\n",
       "      <td>0</td>\n",
       "    </tr>\n",
       "    <tr>\n",
       "      <th>3</th>\n",
       "      <td>oop trump accident confirm leak isra intellig ...</td>\n",
       "      <td>1</td>\n",
       "    </tr>\n",
       "    <tr>\n",
       "      <th>4</th>\n",
       "      <td>donald trump head scotland reopen golf resort ...</td>\n",
       "      <td>0</td>\n",
       "    </tr>\n",
       "  </tbody>\n",
       "</table>\n",
       "</div>"
      ],
      "text/plain": [
       "                                       combined_text  Fake/Not Fake\n",
       "0  ben stein call 9th circuit court commit coup é...              1\n",
       "1  trump drop steve bannon nation secur council w...              0\n",
       "2  puerto rico expect u lift jone act ship restri...              0\n",
       "3  oop trump accident confirm leak isra intellig ...              1\n",
       "4  donald trump head scotland reopen golf resort ...              0"
      ]
     },
     "execution_count": 9,
     "metadata": {},
     "output_type": "execute_result"
    }
   ],
   "source": [
    "# Apply preprocessing to both 'title' and 'text'\n",
    "full_dataset_df['title'] = full_dataset_df['title'].apply(preprocess_data)\n",
    "full_dataset_df['text'] = full_dataset_df['text'].apply(preprocess_data)\n",
    "\n",
    "# Combining 'title' and 'text' into a single column for simplicity\n",
    "full_dataset_df['combined_text'] = full_dataset_df['title'] + \" \" + full_dataset_df['text']\n",
    "\n",
    "# Display the structure and first few rows of the processed dataframe to verify preprocessing\n",
    "full_dataset_df[['combined_text', 'Fake/Not Fake']].head()"
   ]
  },
  {
   "cell_type": "markdown",
   "id": "49ce8893",
   "metadata": {},
   "source": [
    "**Test-train split**<br>\n",
    "To test the future effectiveness of our model, we will be splitting our data into a test set and train set. The train set will be used to fit the vectoriser and train the model while our test set will be used to evaluate our model performance. The split is done randomly so that both sets will have a good representation of our data. The split is also done so that our evaluation will be on data that the model has not seen before, and thus more accurately shows how the model fairs to general real-time news data, that our users will be interacting with.\n",
    "\n",
    "**Vectorising**<br>\n",
    "Vectorisation in NLP is a method to convert text data into a numerical representation so that the ML algorithms can understand the process the text data better. \n",
    "\n",
    "We will be using Term Frequency-Inverse Document Frequency(TF_IDF) vectorisation method to assign more weight to words that are more unique and thus more important in our classification.\n"
   ]
  },
  {
   "cell_type": "code",
   "execution_count": 10,
   "id": "ea8abef8",
   "metadata": {},
   "outputs": [
    {
     "data": {
      "text/plain": [
       "((35918, 10000), (8980, 10000))"
      ]
     },
     "execution_count": 10,
     "metadata": {},
     "output_type": "execute_result"
    }
   ],
   "source": [
    "# Splitting the dataset into training and testing sets\n",
    "X_train, X_test, y_train, y_test = train_test_split(\n",
    "    full_dataset_df['combined_text'], full_dataset_df['Fake/Not Fake'], test_size=0.2, random_state=42)\n",
    "\n",
    "# Initialize the TF-IDF Vectorizer\n",
    "tfidf_vectorizer = TfidfVectorizer(max_features=10000)\n",
    "\n",
    "# Fit and transform the training data, and transform the testing data\n",
    "X_train_tfidf = tfidf_vectorizer.fit_transform(X_train)\n",
    "X_test_tfidf = tfidf_vectorizer.transform(X_test)\n",
    "\n",
    "# Display the shape of the resulting TF-IDF matrices\n",
    "(X_train_tfidf.shape, X_test_tfidf.shape)"
   ]
  },
  {
   "cell_type": "markdown",
   "id": "1997b592",
   "metadata": {},
   "source": [
    "## Training different Machine Learning Models"
   ]
  },
  {
   "cell_type": "markdown",
   "id": "6d1fffcf",
   "metadata": {},
   "source": [
    "We will now test our data on different machine learning models and test to see which one is best in predicting fake news.<br>\n",
    "We will be testing 4 different models:\n",
    "- **Logistic Regression** (classical method for binary classification)\n",
    "- **Naive Bayes Classifier** (Good for high dimensional data, like our own test/train set)\n",
    "- **Passive Aggressive Classifier** (Updates itself aggressively when dealing with misclassification, making it more robust in dealing with noise and better for fake news)\n",
    "- **Support Vector Machine** (Good for high dimensional data, like our own test/train set)"
   ]
  },
  {
   "cell_type": "code",
   "execution_count": 24,
   "id": "9376691b",
   "metadata": {},
   "outputs": [
    {
     "name": "stdout",
     "output_type": "stream",
     "text": [
      "Accuracy: 0.9860801781737194\n",
      "              precision    recall  f1-score   support\n",
      "\n",
      "           0       0.98      0.99      0.99      4270\n",
      "           1       0.99      0.98      0.99      4710\n",
      "\n",
      "    accuracy                           0.99      8980\n",
      "   macro avg       0.99      0.99      0.99      8980\n",
      "weighted avg       0.99      0.99      0.99      8980\n",
      "\n"
     ]
    }
   ],
   "source": [
    "from sklearn.linear_model import LogisticRegression\n",
    "from sklearn.metrics import classification_report, accuracy_score\n",
    "\n",
    "# Initialize the Logistic Regression model\n",
    "lr_model = LogisticRegression(max_iter=1000, random_state=42)\n",
    "\n",
    "# Train the model on the training set\n",
    "lr_model.fit(X_train_tfidf, y_train)\n",
    "\n",
    "# Predictions on the test set\n",
    "y_pred_lr = lr_model.predict(X_test_tfidf)\n",
    "\n",
    "# Evaluate the model\n",
    "print(\"Accuracy:\", accuracy_score(y_test, y_pred_lr))\n",
    "print(classification_report(y_test, y_pred_lr))"
   ]
  },
  {
   "cell_type": "code",
   "execution_count": 25,
   "id": "14da781b",
   "metadata": {},
   "outputs": [
    {
     "name": "stdout",
     "output_type": "stream",
     "text": [
      "Accuracy: 0.9304008908685969\n",
      "              precision    recall  f1-score   support\n",
      "\n",
      "           0       0.93      0.92      0.93      4270\n",
      "           1       0.93      0.94      0.93      4710\n",
      "\n",
      "    accuracy                           0.93      8980\n",
      "   macro avg       0.93      0.93      0.93      8980\n",
      "weighted avg       0.93      0.93      0.93      8980\n",
      "\n"
     ]
    }
   ],
   "source": [
    "from sklearn.naive_bayes import MultinomialNB\n",
    "\n",
    "# Initialise the Naive Bayes classifier model\n",
    "nb_model = MultinomialNB()\n",
    "\n",
    "# Train the model on the training set\n",
    "nb_model.fit(X_train_tfidf, y_train)\n",
    "\n",
    "# Predictions on the test set\n",
    "y_pred_nb = nb_model.predict(X_test_tfidf)\n",
    "\n",
    "# Evaluate the model\n",
    "print(\"Accuracy:\", accuracy_score(y_test, y_pred_nb))\n",
    "print(classification_report(y_test, y_pred_nb))"
   ]
  },
  {
   "cell_type": "code",
   "execution_count": 26,
   "id": "eb3d8c1f",
   "metadata": {},
   "outputs": [
    {
     "name": "stdout",
     "output_type": "stream",
     "text": [
      "Accuracy: 0.9935412026726058\n",
      "              precision    recall  f1-score   support\n",
      "\n",
      "           0       0.99      0.99      0.99      4270\n",
      "           1       0.99      0.99      0.99      4710\n",
      "\n",
      "    accuracy                           0.99      8980\n",
      "   macro avg       0.99      0.99      0.99      8980\n",
      "weighted avg       0.99      0.99      0.99      8980\n",
      "\n"
     ]
    }
   ],
   "source": [
    "from sklearn.linear_model import PassiveAggressiveClassifier\n",
    "\n",
    "# Initialise the Passive Aggressive Classifier model\n",
    "pa_model = PassiveAggressiveClassifier(max_iter=1000, random_state=42)\n",
    "\n",
    "# Train the model on the training set\n",
    "pa_model.fit(X_train_tfidf, y_train)\n",
    "\n",
    "# Predictions on the test set\n",
    "y_pred_pa = pa_model.predict(X_test_tfidf)\n",
    "\n",
    "# Evaluate the model\n",
    "print(\"Accuracy:\", accuracy_score(y_test, y_pred_pa))\n",
    "print(classification_report(y_test, y_pred_pa))"
   ]
  },
  {
   "cell_type": "code",
   "execution_count": 27,
   "id": "9980a0df",
   "metadata": {
    "scrolled": true
   },
   "outputs": [
    {
     "name": "stdout",
     "output_type": "stream",
     "text": [
      "Accuracy: 0.9943207126948775\n",
      "              precision    recall  f1-score   support\n",
      "\n",
      "           0       0.99      0.99      0.99      4270\n",
      "           1       1.00      0.99      0.99      4710\n",
      "\n",
      "    accuracy                           0.99      8980\n",
      "   macro avg       0.99      0.99      0.99      8980\n",
      "weighted avg       0.99      0.99      0.99      8980\n",
      "\n"
     ]
    }
   ],
   "source": [
    "from sklearn.svm import LinearSVC\n",
    "\n",
    "# Initialize the Support Vector Machine model\n",
    "svm_model = LinearSVC(random_state=42)\n",
    "\n",
    "# Train the model on the training set\n",
    "svm_model.fit(X_train_tfidf, y_train)\n",
    "\n",
    "# Predictions on the test set\n",
    "y_pred_svm = svm_model.predict(X_test_tfidf)\n",
    "\n",
    "# Evaluate the model\n",
    "print(\"Accuracy:\", accuracy_score(y_test, y_pred_svm))\n",
    "print(classification_report(y_test, y_pred_svm))"
   ]
  },
  {
   "cell_type": "markdown",
   "id": "c5dab916",
   "metadata": {},
   "source": [
    "## Model Evaluation"
   ]
  },
  {
   "cell_type": "markdown",
   "id": "006f6f3b",
   "metadata": {},
   "source": [
    "We will now be evaluating our models, and determining which one is best for detecting fake news. We will be utilising 2 metrics to decide which model is the best: **accuracy and recall**. \n",
    "\n",
    "Accuracy refers to percentage of correct classifications made by the model. \n",
    "\n",
    "Recall measures the probability that a piece of fake news correctly identified amongst all the actual fake news. "
   ]
  },
  {
   "cell_type": "code",
   "execution_count": 15,
   "id": "f1575250",
   "metadata": {},
   "outputs": [
    {
     "data": {
      "image/png": "[encoded data removed]",
      "text/plain": [
       "<Figure size 1200x1000 with 8 Axes>"
      ]
     },
     "metadata": {},
     "output_type": "display_data"
    }
   ],
   "source": [
    "from sklearn.metrics import confusion_matrix\n",
    "\n",
    "f, axes = plt.subplots(2, 2, figsize=(12, 10))\n",
    "axes[0][0].set_title(\"Logistic Regression\")\n",
    "axes[0][1].set_title(\"Naive Bayes\")\n",
    "axes[1][0].set_title(\"Passive Aggressive Classification\")\n",
    "axes[1][1].set_title(\"Support Vector Machine\")\n",
    "sb.heatmap(confusion_matrix(y_test, y_pred_lr),\n",
    "           annot = True, fmt=\".0f\", annot_kws={\"size\": 18}, ax = axes[0][0])\n",
    "sb.heatmap(confusion_matrix(y_test, y_pred_nb), \n",
    "           annot = True, fmt=\".0f\", annot_kws={\"size\": 18}, ax = axes[0][1])\n",
    "sb.heatmap(confusion_matrix(y_test, y_pred_pa), \n",
    "           annot = True, fmt=\".0f\", annot_kws={\"size\": 18}, ax = axes[1][0])\n",
    "sb.heatmap(confusion_matrix(y_test, y_pred_svm), \n",
    "           annot = True, fmt=\".0f\", annot_kws={\"size\": 18}, ax = axes[1][1])\n",
    "plt.show()"
   ]
  },
  {
   "cell_type": "markdown",
   "id": "94fcf2ae",
   "metadata": {},
   "source": [
    "Above shows the confusion matrix (a matrix to show the different numbers of True Positive, True Negative, False Positive and False Negative Rates) to better visualise which models are better."
   ]
  },
  {
   "cell_type": "code",
   "execution_count": 29,
   "id": "8cea6028",
   "metadata": {},
   "outputs": [
    {
     "name": "stdout",
     "output_type": "stream",
     "text": [
      "Logistical Regression\n",
      "Accuracy: 0.9860801781737194\n",
      "              precision    recall  f1-score   support\n",
      "\n",
      "           0  0.98276264 0.98805621 0.98540231      4270\n",
      "           1  0.98911884 0.98428875 0.98669788      4710\n",
      "\n",
      "    accuracy                      0.98608018      8980\n",
      "   macro avg  0.98594074 0.98617248 0.98605010      8980\n",
      "weighted avg  0.98609646 0.98608018 0.98608184      8980\n",
      "\n",
      "Naive Bayes Classifier\n",
      "Accuracy: 0.9304008908685969\n",
      "              precision    recall  f1-score   support\n",
      "\n",
      "           0  0.93013925 0.92295082 0.92653109      4270\n",
      "           1  0.93063462 0.93715499 0.93388342      4710\n",
      "\n",
      "    accuracy                      0.93040089      8980\n",
      "   macro avg  0.93038693 0.93005290 0.93020726      8980\n",
      "weighted avg  0.93039907 0.93040089 0.93038738      8980\n",
      "\n",
      "Passive Aggressive Classifier\n",
      "Accuracy: 0.9935412026726058\n",
      "              precision    recall  f1-score   support\n",
      "\n",
      "           0  0.99274684 0.99367681 0.99321161      4270\n",
      "           1  0.99426264 0.99341826 0.99384027      4710\n",
      "\n",
      "    accuracy                      0.99354120      8980\n",
      "   macro avg  0.99350474 0.99354754 0.99352594      8980\n",
      "weighted avg  0.99354188 0.99354120 0.99354134      8980\n",
      "\n",
      "Support Vector Machine\n",
      "Accuracy: 0.9943207126948775\n",
      "              precision    recall  f1-score   support\n",
      "\n",
      "           0  0.99321955 0.99484778 0.99403299      4270\n",
      "           1  0.99532213 0.99384289 0.99458196      4710\n",
      "\n",
      "    accuracy                      0.99432071      8980\n",
      "   macro avg  0.99427084 0.99434533 0.99430748      8980\n",
      "weighted avg  0.99432235 0.99432071 0.99432093      8980\n",
      "\n"
     ]
    }
   ],
   "source": [
    "# Print the score of each model\n",
    "print(\"Logistical Regression\")\n",
    "print(\"Accuracy:\", accuracy_score(y_test, y_pred_lr))\n",
    "print(classification_report(y_test, y_pred_lr, digits=8))\n",
    "\n",
    "print(\"Naive Bayes Classifier\")\n",
    "print(\"Accuracy:\", accuracy_score(y_test, y_pred_nb))\n",
    "print(classification_report(y_test, y_pred_nb, digits=8))\n",
    "\n",
    "print(\"Passive Aggressive Classifier\")\n",
    "print(\"Accuracy:\", accuracy_score(y_test, y_pred_pa))\n",
    "print(classification_report(y_test, y_pred_pa, digits=8))\n",
    "\n",
    "print(\"Support Vector Machine\")\n",
    "print(\"Accuracy:\", accuracy_score(y_test, y_pred_svm))\n",
    "print(classification_report(y_test, y_pred_svm, digits=8))"
   ]
  },
  {
   "cell_type": "markdown",
   "id": "32060158",
   "metadata": {},
   "source": [
    "As seen above, amongst all the machine learning models, the support vector machine has both the best accuracy as well as the best recall. Therefore, we will be utlising it in our plug-in!"
   ]
  },
  {
   "cell_type": "markdown",
   "id": "6b386124",
   "metadata": {},
   "source": [
    "## Our Model in Action"
   ]
  },
  {
   "cell_type": "markdown",
   "id": "e843a673",
   "metadata": {},
   "source": [
    "Now that we have our model, lets try to test on some data on the internet! \n",
    "\n",
    "We will use beautifulsoup to scrap news title and news content from live websites and parsing these data to our model to evaluate its effectiveness in detecting possible fake news."
   ]
  },
  {
   "cell_type": "code",
   "execution_count": 17,
   "id": "0ea4125c",
   "metadata": {},
   "outputs": [
    {
     "name": "stdout",
     "output_type": "stream",
     "text": [
      "Requirement already satisfied: requests in c:\\users\\huang\\anaconda3\\lib\\site-packages (2.28.1)\n",
      "Requirement already satisfied: certifi>=2017.4.17 in c:\\users\\huang\\anaconda3\\lib\\site-packages (from requests) (2022.9.14)\n",
      "Requirement already satisfied: charset-normalizer<3,>=2 in c:\\users\\huang\\anaconda3\\lib\\site-packages (from requests) (2.0.4)\n",
      "Requirement already satisfied: idna<4,>=2.5 in c:\\users\\huang\\anaconda3\\lib\\site-packages (from requests) (3.3)\n",
      "Requirement already satisfied: urllib3<1.27,>=1.21.1 in c:\\users\\huang\\anaconda3\\lib\\site-packages (from requests) (1.26.11)\n",
      "Requirement already satisfied: beautifulsoup4 in c:\\users\\huang\\anaconda3\\lib\\site-packages (4.11.1)\n",
      "Requirement already satisfied: soupsieve>1.2 in c:\\users\\huang\\anaconda3\\lib\\site-packages (from beautifulsoup4) (2.3.1)\n"
     ]
    }
   ],
   "source": [
    "# Install the relevant modules to check url and extract title and content\n",
    "!pip install requests\n",
    "!pip install beautifulsoup4"
   ]
  },
  {
   "cell_type": "code",
   "execution_count": 18,
   "id": "02931158",
   "metadata": {},
   "outputs": [],
   "source": [
    "import requests\n",
    "from bs4 import BeautifulSoup\n",
    "\n",
    "# Define function to parse the url to extract HTML information\n",
    "def download_and_parse_html(url):\n",
    "    response = requests.get(url)\n",
    "    soup = BeautifulSoup(response.text, 'html.parser')\n",
    "    return soup\n",
    "\n",
    "# Extract title and news content from the HTML information\n",
    "def extract_news_content(soup):\n",
    "    # Extract title from the header '<h1>' tag\n",
    "    title = soup.find('h1').get_text()\n",
    "    \n",
    "    # Extract news content from within <p> tags in a specific div\n",
    "    content = ' '.join(p.get_text() for p in soup.find_all('p'))\n",
    "    \n",
    "    return title, content\n",
    "\n",
    "# With the above helper functions extract relevant information from the website \n",
    "# and run it through the ML model for classification\n",
    "def classify_news(url):\n",
    "    soup = download_and_parse_html(url)\n",
    "    title, content = extract_news_content(soup)\n",
    "    \n",
    "    # Preprocess the data so that it can be inputted into the model\n",
    "    title = preprocess_data(title)\n",
    "    content = preprocess_data(content)\n",
    "    data = [{\"data\": title + \" \" + content}]\n",
    "    combined_df = pd.DataFrame(data)\n",
    "    vectorised_data = tfidf_vectorizer.transform(combined_df['data'])\n",
    "    \n",
    "    # Make the prediction and print the result\n",
    "    prediction = svm_model.predict(vectorised_data)\n",
    "    print(\"Likely Fake\") if prediction else print(\"Likely True\")"
   ]
  },
  {
   "cell_type": "code",
   "execution_count": 19,
   "id": "a1b21ba6",
   "metadata": {},
   "outputs": [
    {
     "name": "stdout",
     "output_type": "stream",
     "text": [
      "Likely True\n"
     ]
    }
   ],
   "source": [
    "classify_news(\"https://www.channelnewsasia.com/singapore/automation-training-initiatives-among-proposed-solutions-singapores-marine-sector-braces-manpower-crunch-4211401\")"
   ]
  },
  {
   "cell_type": "markdown",
   "id": "3dfd523b",
   "metadata": {},
   "source": [
    "**TEST CASES**<br>\n",
    "Fake<br>\n",
    "https://www.theonion.com/shitty-music-has-helped-moron-through-hardest-times-in-1848340506\n",
    "\n",
    "https://www.newyorker.com/magazine/2024/03/25/the-crime-rings-stealing-everything-from-purses-to-power-tools\n",
    "\n",
    "True<br>\n",
    "https://www.channelnewsasia.com/singapore/automation-training-initiatives-among-proposed-solutions-singapores-marine-sector-braces-manpower-crunch-4211401\n",
    "\n",
    "https://edition.cnn.com/2024/03/21/asia/us-tests-hypersonic-missile-pacific-guam-intl-hnk-ml/index.html"
   ]
  },
  {
   "cell_type": "code",
   "execution_count": null,
   "id": "e1cf20de",
   "metadata": {},
   "outputs": [],
   "source": []
  }
 ],
 "metadata": {
  "kernelspec": {
   "display_name": "Python 3 (ipykernel)",
   "language": "python",
   "name": "python3"
  },
  "language_info": {
   "codemirror_mode": {
    "name": "ipython",
    "version": 3
   },
   "file_extension": ".py",
   "mimetype": "text/x-python",
   "name": "python",
   "nbconvert_exporter": "python",
   "pygments_lexer": "ipython3",
   "version": "3.9.13"
  }
 },
 "nbformat": 4,
 "nbformat_minor": 5
}
